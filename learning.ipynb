{
 "cells": [
  {
   "cell_type": "markdown",
   "metadata": {},
   "source": [
    "# Installation\n"
   ]
  },
  {
   "cell_type": "markdown",
   "metadata": {},
   "source": [
    "```\n",
    "rcb@RyansDesktop:~/repos/learning-cython$ sudo apt-get install build-essential python3-dev clang\n",
    "\n",
    "```\n",
    "\n",
    "```\n",
    "rcb@RyansDesktop:~/repos/learning-cython$ uv add Cython setuptools\n",
    "```\n"
   ]
  }
 ],
 "metadata": {
  "language_info": {
   "name": "python"
  }
 },
 "nbformat": 4,
 "nbformat_minor": 2
}
